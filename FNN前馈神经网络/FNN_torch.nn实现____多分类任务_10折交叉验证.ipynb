{
 "cells": [
  {
   "cell_type": "code",
   "execution_count": 1,
   "metadata": {},
   "outputs": [],
   "source": [
    "import torch\n",
    "import torch.nn as nn\n",
    "import torchvision\n",
    "import torchvision.transforms as transforms\n",
    "import matplotlib.pyplot as plt\n",
    "import numpy as np\n",
    "from pandas import *"
   ]
  },
  {
   "cell_type": "code",
   "execution_count": 2,
   "metadata": {},
   "outputs": [
    {
     "name": "stdout",
     "output_type": "stream",
     "text": [
      "mnist_train <class 'torchvision.datasets.mnist.FashionMNIST'>\n"
     ]
    },
    {
     "name": "stderr",
     "output_type": "stream",
     "text": [
      "D:\\anaconda\\lib\\site-packages\\torchvision\\datasets\\mnist.py:498: UserWarning: The given NumPy array is not writeable, and PyTorch does not support non-writeable tensors. This means you can write to the underlying (supposedly non-writeable) NumPy array using the tensor. You may want to copy the array to protect its data or make it writeable before converting it to a tensor. This type of warning will be suppressed for the rest of this program. (Triggered internally at  ..\\torch\\csrc\\utils\\tensor_numpy.cpp:180.)\n",
      "  return torch.from_numpy(parsed.astype(m[2], copy=False)).view(*s)\n"
     ]
    }
   ],
   "source": [
    "mnist_train = torchvision.datasets.FashionMNIST(root='..\\Datasets\\FashionMNIST', train=True, download=True, transform=transforms.ToTensor())\n",
    "mnist_test = torchvision.datasets.FashionMNIST(root='..Datasets\\FashionMNIST', train=False, download=True, transform=transforms.ToTensor())\n",
    "print('mnist_train', type(mnist_train))"
   ]
  },
  {
   "cell_type": "code",
   "execution_count": 3,
   "metadata": {},
   "outputs": [
    {
     "name": "stdout",
     "output_type": "stream",
     "text": [
      "data3= range(0, 10)\n"
     ]
    }
   ],
   "source": [
    "# 处理数据\n",
    "# 1 连接训练集和测试集数据\n",
    "data_all = torch.utils.data.ConcatDataset([mnist_train, mnist_test])\n",
    "# 2 分割连接好的数据，分割城10份\n",
    "data_1, data_2, data_3, data_4, data_5, data_6, data_7, data_8, data_9, data_10 = torch.utils.data.random_split(data_all, [7000, 7000, 7000, 7000, 7000, 7000, 7000, 7000, 7000, 7000])\n",
    "print('data3=', range(0,10))\n",
    "\n",
    "list_10 = [data_1, data_2, data_3, data_4, data_5, data_6, data_7, data_8, data_9, data_10]\n",
    "\n",
    "# 3 作一个函数，输入：下标值，连接好的数据，输出：train_set, test_set\n",
    "def getData(i, dataset, batch_size):\n",
    "    test_loader = None\n",
    "    list_9 = []\n",
    "    for j in range(0,10):\n",
    "        if i == j:\n",
    "            test_loader = torch.utils.data.DataLoader(\n",
    "                    dataset[i],\n",
    "                    batch_size = batch_size,\n",
    "                    shuffle = True\n",
    "            )\n",
    "        else:\n",
    "            list_9.append(dataset[j])\n",
    "            \n",
    "    data_9 = torch.utils.data.ConcatDataset(list_9)\n",
    "    train_loader = torch.utils.data.DataLoader(\n",
    "            data_9,\n",
    "            batch_size = batch_size,\n",
    "            shuffle = True\n",
    "    )\n",
    "    return train_loader, test_loader\n",
    "            "
   ]
  },
  {
   "cell_type": "code",
   "execution_count": 4,
   "metadata": {},
   "outputs": [],
   "source": [
    "# 小批量读取数据\n",
    "batch_size = 64\n",
    "# train_iter = torch.utils.data.DataLoader(mnist_train, batch_size=batch_size, shuffle=True, num_workers=0)\n",
    "# test_iter = torch.utils.data.DataLoader(mnist_test, batch_size = batch_size, shuffle = False, num_workers=0)"
   ]
  },
  {
   "cell_type": "code",
   "execution_count": 5,
   "metadata": {},
   "outputs": [],
   "source": [
    "# 实现FlattenLayer层\n",
    "class FlattenLayer(torch.nn.Module):\n",
    "    def __init__(self):\n",
    "        super(FlattenLayer, self).__init__()\n",
    "        \n",
    "    def forward(self, x):\n",
    "        return x.view(x.shape[0], -1)\n",
    "        "
   ]
  },
  {
   "cell_type": "code",
   "execution_count": 6,
   "metadata": {},
   "outputs": [],
   "source": [
    "# 模型定义和参数初始化\n",
    "num_inputs, num_outputs, num_hiddens = 784, 10, 256\n",
    "\n",
    "net = nn.Sequential(\n",
    "    FlattenLayer(),\n",
    "    nn.Linear(num_inputs, num_hiddens),\n",
    "    nn.ReLU(),\n",
    "    nn.Linear(num_hiddens, num_outputs),\n",
    ")\n",
    "\n",
    "for params in net.parameters():\n",
    "    nn.init.normal_(params, mean=0, std=0.01)\n",
    "    "
   ]
  },
  {
   "cell_type": "code",
   "execution_count": 7,
   "metadata": {},
   "outputs": [],
   "source": [
    "# 计算准确率和loss\n",
    "def evaluate_accuracy(data_iter, net, loss):\n",
    "    acc_sum, n = 0.0, 0\n",
    "    test_l_sum = 0.0\n",
    "    for X, y in data_iter:\n",
    "        acc_sum += (net(X).argmax(dim=1) == y).float().sum().item()\n",
    "        l = loss(net(X), y).sum()\n",
    "        test_l_sum += l.item()\n",
    "        n += y.shape[0]\n",
    "        return acc_sum / n, test_l_sum / n"
   ]
  },
  {
   "cell_type": "code",
   "execution_count": 8,
   "metadata": {},
   "outputs": [],
   "source": [
    "# 设置训练轮次，学习率，损失函数\n",
    "num_epochs = 10\n",
    "lr = 0.01\n",
    "loss = torch.nn.CrossEntropyLoss()\n",
    "optimizer =torch.optim.SGD(net.parameters(), lr)"
   ]
  },
  {
   "cell_type": "code",
   "execution_count": 9,
   "metadata": {},
   "outputs": [],
   "source": [
    "# 模型训练\n",
    "def train(net, mnist_train, mnist_test, loss, num_epochs, batch_size, params=None, lr = None, optimizer=None):\n",
    "    train_loss = []\n",
    "    test_loss = []\n",
    "    for epoch in range(num_epochs):\n",
    "        train_l_sum, train_acc_sum, n = 0.0, 0.0, 0\n",
    "        for X, y in train_iter:\n",
    "            y_hat = net(X)\n",
    "            l = loss(y_hat, y).sum()\n",
    "            if optimizer is not None:\n",
    "                optimizer.zero_grad()\n",
    "            elif params is not None and params[0].grad is not None:\n",
    "                for param in params:\n",
    "                    param.grad.data.zero_()\n",
    "            l.backward()\n",
    "            if optimizer is None:\n",
    "                SGD(params, lr)\n",
    "            else:\n",
    "                optimizer.step()\n",
    "            train_l_sum += l.item()\n",
    "            train_acc_sum += (y_hat.argmax(dim=1) == y).sum().item()\n",
    "            n += y.shape[0]\n",
    "        test_acc, test_l = evaluate_accuracy(test_iter, net, loss)\n",
    "        train_loss.append(train_l_sum/n)\n",
    "        test_loss.append(test_l)\n",
    "#         print('epoch %d, train_loss %.4f, test_loss %.4f' % (epoch + 1, train_l_sum / n, test_l))    \n",
    "    return train_acc_sum / n, test_acc"
   ]
  },
  {
   "cell_type": "code",
   "execution_count": 10,
   "metadata": {},
   "outputs": [],
   "source": [
    "# 绘制表格\n",
    "def paint_table(list1, list2):\n",
    "    accurates = list(zip(list1,list2))\n",
    "    epochs = []\n",
    "    for i in range(0, 10):\n",
    "        epoch = 'k=%d'%(i)\n",
    "        epochs.append(epoch)\n",
    "    idx = Index(epochs)\n",
    "\n",
    "    df = DataFrame(accurates, index=idx, columns=['train accurate', 'test accurate'])\n",
    "\n",
    "    vals = np.around(df.values,4) \n",
    "    fig = plt.figure(figsize=(9,4))\n",
    "    ax = fig.add_subplot(111, frameon=True, xticks=[], yticks=[])\n",
    "    the_table=plt.table(cellText=vals, rowLabels=df.index, colLabels=df.columns, \n",
    "                        colWidths = [0.1]*vals.shape[1], loc='center',cellLoc='center')\n",
    "    the_table.set_fontsize(20)\n",
    "    the_table.scale(5.00,1.64)"
   ]
  },
  {
   "cell_type": "code",
   "execution_count": 11,
   "metadata": {
    "scrolled": false
   },
   "outputs": [
    {
     "name": "stdout",
     "output_type": "stream",
     "text": [
      "十折交叉验证之index=0 训练集准确率0.8439 测试集准确率0.7344\n",
      "十折交叉验证之index=1 训练集准确率0.8629 测试集准确率0.8438\n",
      "十折交叉验证之index=2 训练集准确率0.8744 测试集准确率0.9062\n",
      "十折交叉验证之index=3 训练集准确率0.8803 测试集准确率0.9375\n",
      "十折交叉验证之index=4 训练集准确率0.8886 测试集准确率0.8906\n",
      "十折交叉验证之index=5 训练集准确率0.8943 测试集准确率0.9219\n",
      "十折交叉验证之index=6 训练集准确率0.8990 测试集准确率0.8281\n",
      "十折交叉验证之index=7 训练集准确率0.9034 测试集准确率0.9375\n",
      "十折交叉验证之index=8 训练集准确率0.9079 测试集准确率0.8750\n",
      "十折交叉验证之index=9 训练集准确率0.9130 测试集准确率0.9219\n"
     ]
    }
   ],
   "source": [
    "# 开干吧\n",
    "train_accurate_arr = []\n",
    "test_accurate_arr = []\n",
    "for i in range(0,10):\n",
    "    train_iter, test_iter = getData(i, list_10, batch_size)\n",
    "    train_acc, test_acc = train(net, train_iter, test_iter, loss, num_epochs, batch_size, net.parameters(), lr, optimizer)\n",
    "    print('十折交叉验证之index=%d'%(i), '训练集准确率%.4f'%(train_acc), '测试集准确率%.4f'%(test_acc))\n",
    "    train_accurate_arr.append(train_acc)\n",
    "    test_accurate_arr.append(test_acc)\n"
   ]
  },
  {
   "cell_type": "code",
   "execution_count": 12,
   "metadata": {},
   "outputs": [
    {
     "data": {
      "image/png": "[encoded data removed]",
      "text/plain": [
       "<Figure size 648x288 with 1 Axes>"
      ]
     },
     "metadata": {},
     "output_type": "display_data"
    }
   ],
   "source": [
    "paint_table(train_accurate_arr, test_accurate_arr)"
   ]
  }
 ],
 "metadata": {
  "kernelspec": {
   "display_name": "Python [conda env:root] *",
   "language": "python",
   "name": "conda-root-py"
  },
  "language_info": {
   "codemirror_mode": {
    "name": "ipython",
    "version": 3
   },
   "file_extension": ".py",
   "mimetype": "text/x-python",
   "name": "python",
   "nbconvert_exporter": "python",
   "pygments_lexer": "ipython3",
   "version": "3.8.5"
  }
 },
 "nbformat": 4,
 "nbformat_minor": 4
}
