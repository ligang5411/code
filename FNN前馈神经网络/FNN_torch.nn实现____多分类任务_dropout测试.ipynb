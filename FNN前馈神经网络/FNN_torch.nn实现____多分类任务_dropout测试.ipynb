{
 "cells": [
  {
   "cell_type": "code",
   "execution_count": 1,
   "metadata": {},
   "outputs": [],
   "source": [
    "import torch\n",
    "import torch.nn as nn\n",
    "import torchvision\n",
    "import torchvision.transforms as transforms\n",
    "import matplotlib.pyplot as plt\n",
    "import numpy as np"
   ]
  },
  {
   "cell_type": "code",
   "execution_count": 2,
   "metadata": {},
   "outputs": [
    {
     "name": "stderr",
     "output_type": "stream",
     "text": [
      "D:\\anaconda\\lib\\site-packages\\torchvision\\datasets\\mnist.py:498: UserWarning: The given NumPy array is not writeable, and PyTorch does not support non-writeable tensors. This means you can write to the underlying (supposedly non-writeable) NumPy array using the tensor. You may want to copy the array to protect its data or make it writeable before converting it to a tensor. This type of warning will be suppressed for the rest of this program. (Triggered internally at  ..\\torch\\csrc\\utils\\tensor_numpy.cpp:180.)\n",
      "  return torch.from_numpy(parsed.astype(m[2], copy=False)).view(*s)\n"
     ]
    }
   ],
   "source": [
    "mnist_train = torchvision.datasets.FashionMNIST(root='..\\Datasets\\FashionMNIST', train=True, download=True, transform=transforms.ToTensor())\n",
    "mnist_test = torchvision.datasets.FashionMNIST(root='..Datasets\\FashionMNIST', train=False, download=True, transform=transforms.ToTensor())"
   ]
  },
  {
   "cell_type": "code",
   "execution_count": 3,
   "metadata": {},
   "outputs": [],
   "source": [
    "# 小批量读取数据\n",
    "batch_size = 64\n",
    "train_iter = torch.utils.data.DataLoader(mnist_train, batch_size=batch_size, shuffle=True, num_workers=0)\n",
    "test_iter = torch.utils.data.DataLoader(mnist_test, batch_size = batch_size, shuffle = False, num_workers=0)"
   ]
  },
  {
   "cell_type": "code",
   "execution_count": 4,
   "metadata": {},
   "outputs": [],
   "source": [
    "# 实现FlattenLayer层\n",
    "class FlattenLayer(torch.nn.Module):\n",
    "    def __init__(self):\n",
    "        super(FlattenLayer, self).__init__()\n",
    "        \n",
    "    def forward(self, x):\n",
    "        return x.view(x.shape[0], -1)\n",
    "        "
   ]
  },
  {
   "cell_type": "code",
   "execution_count": 5,
   "metadata": {},
   "outputs": [],
   "source": [
    "# 模型定义和参数初始化\n",
    "num_inputs, num_outputs, num_hiddens = 784, 10, 256\n",
    "\n",
    "drop_prob = 0.8\n",
    "net = nn.Sequential(\n",
    "    FlattenLayer(),\n",
    "    nn.Linear(num_inputs, num_hiddens),\n",
    "    nn.ReLU(),\n",
    "    nn.Dropout(drop_prob),\n",
    "    nn.Linear(num_hiddens, num_outputs),\n",
    ")\n",
    "\n",
    "for params in net.parameters():\n",
    "    nn.init.normal_(params, mean=0, std=0.01)\n",
    "    "
   ]
  },
  {
   "cell_type": "code",
   "execution_count": 6,
   "metadata": {},
   "outputs": [],
   "source": [
    "# 计算准确率和loss\n",
    "def evaluate_accuracy(data_iter, net, loss):\n",
    "    acc_sum, n = 0.0, 0\n",
    "    test_l_sum = 0.0\n",
    "    for X, y in data_iter:\n",
    "        net.eval()\n",
    "        acc_sum += (net(X).argmax(dim=1) == y).float().sum().item()\n",
    "        net.train()\n",
    "        l = loss(net(X), y).sum()\n",
    "        test_l_sum += l.item()\n",
    "        n += y.shape[0]\n",
    "    return acc_sum / n, test_l_sum / n"
   ]
  },
  {
   "cell_type": "code",
   "execution_count": 7,
   "metadata": {},
   "outputs": [],
   "source": [
    "# 设置训练轮次，学习率，损失函数\n",
    "num_epochs = 10\n",
    "lr = 0.01\n",
    "loss = torch.nn.CrossEntropyLoss()\n",
    "optimizer =torch.optim.SGD(net.parameters(), lr)"
   ]
  },
  {
   "cell_type": "code",
   "execution_count": 8,
   "metadata": {},
   "outputs": [],
   "source": [
    "# 模型训练\n",
    "def train(net, mnist_train, mnist_test, loss, num_epochs, batch_size, params=None, lr = None, optimizer=None):\n",
    "    train_loss = []\n",
    "    test_loss = []\n",
    "    for epoch in range(num_epochs):\n",
    "        train_l_sum, train_acc_sum, n = 0.0, 0.0, 0\n",
    "        for X, y in train_iter:\n",
    "            y_hat = net(X)\n",
    "            l = loss(y_hat, y).sum()\n",
    "            if optimizer is not None:\n",
    "                optimizer.zero_grad()\n",
    "            elif params is not None and params[0].grad is not None:\n",
    "                for param in params:\n",
    "                    param.grad.data.zero_()\n",
    "            l.backward()\n",
    "            if optimizer is None:\n",
    "                SGD(params, lr)\n",
    "            else:\n",
    "                optimizer.step()\n",
    "            train_l_sum += l.item()\n",
    "            train_acc_sum += (y_hat.argmax(dim=1) == y).sum().item()\n",
    "            n += y.shape[0]\n",
    "        test_acc, test_l = evaluate_accuracy(test_iter, net, loss)\n",
    "        train_loss.append(train_l_sum/n)\n",
    "        test_loss.append(test_l)\n",
    "        print('epoch %d, train_loss %.4f, test_loss %.4f' % (epoch + 1, train_l_sum / n, test_l))    \n",
    "    return train_loss, test_loss"
   ]
  },
  {
   "cell_type": "code",
   "execution_count": 9,
   "metadata": {},
   "outputs": [
    {
     "name": "stdout",
     "output_type": "stream",
     "text": [
      "epoch 1, train_loss 0.0245, test_loss 0.0170\n",
      "epoch 2, train_loss 0.0148, test_loss 0.0138\n",
      "epoch 3, train_loss 0.0127, test_loss 0.0124\n",
      "epoch 4, train_loss 0.0115, test_loss 0.0115\n",
      "epoch 5, train_loss 0.0107, test_loss 0.0108\n",
      "epoch 6, train_loss 0.0101, test_loss 0.0102\n",
      "epoch 7, train_loss 0.0096, test_loss 0.0098\n",
      "epoch 8, train_loss 0.0093, test_loss 0.0095\n",
      "epoch 9, train_loss 0.0090, test_loss 0.0092\n",
      "epoch 10, train_loss 0.0088, test_loss 0.0092\n"
     ]
    },
    {
     "data": {
      "image/png": "[encoded data removed]",
      "text/plain": [
       "<Figure size 432x288 with 1 Axes>"
      ]
     },
     "metadata": {
      "needs_background": "light"
     },
     "output_type": "display_data"
    }
   ],
   "source": [
    "train_loss, test_loss = train(net, train_iter, test_iter, loss, num_epochs, batch_size, net.parameters(), lr, optimizer)\n",
    "\n",
    "# 画图\n",
    "x = np.linspace(0, len(train_loss), len(train_loss))\n",
    "plt.plot(x, train_loss, label = 'train_loss', linewidth=1.5)\n",
    "plt.plot(x, test_loss, label='test_loss', linewidth = 1.5)\n",
    "plt.xlabel('epoch')\n",
    "plt.ylabel('loss')\n",
    "plt.legend()\n",
    "plt.show()"
   ]
  }
 ],
 "metadata": {
  "kernelspec": {
   "display_name": "Python [conda env:root] *",
   "language": "python",
   "name": "conda-root-py"
  },
  "language_info": {
   "codemirror_mode": {
    "name": "ipython",
    "version": 3
   },
   "file_extension": ".py",
   "mimetype": "text/x-python",
   "name": "python",
   "nbconvert_exporter": "python",
   "pygments_lexer": "ipython3",
   "version": "3.8.5"
  }
 },
 "nbformat": 4,
 "nbformat_minor": 4
}
