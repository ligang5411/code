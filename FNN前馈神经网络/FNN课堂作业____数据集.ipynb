{
 "cells": [
  {
   "cell_type": "code",
   "execution_count": 1,
   "metadata": {},
   "outputs": [],
   "source": [
    "import torch\n",
    "import numpy as np\n",
    "import torchvision\n",
    "import torchvision.transforms as transforms\n"
   ]
  },
  {
   "cell_type": "code",
   "execution_count": 2,
   "metadata": {},
   "outputs": [
    {
     "name": "stdout",
     "output_type": "stream",
     "text": [
      "x_train.shape torch.Size([7000, 500])\n"
     ]
    }
   ],
   "source": [
    "# 手动生成回归任务的数据集\n",
    "# 生成单个数据集。\n",
    "# 数据集的大小为10000且训练集大小为7000，测试集大小为3000。\n",
    "# 数据集的样本特征维度p为500，且服从如下的高维线性函数\n",
    "\n",
    "def synthetic_data(w, b, num_examples):  #@save\n",
    "    \"\"\"生成 y = Xw + b + 噪声。\"\"\"\n",
    "    X = torch.normal(0, 1, (num_examples, len(w)))\n",
    "    y = torch.matmul(X, w) + b\n",
    "    y += torch.normal(0, 0.01, y.shape)\n",
    "    return X, y.reshape((-1, 1))\n",
    "\n",
    "true_w = torch.ones(500)\n",
    "true_w = true_w * 0.0056\n",
    "true_b = 0.028\n",
    "x_train, y_train = synthetic_data(true_w, true_b, 7000)\n",
    "x_test, y_test = synthetic_data(true_w, true_b, 3000)\n",
    "print('x_train.shape', x_train.shape)"
   ]
  },
  {
   "cell_type": "code",
   "execution_count": 5,
   "metadata": {},
   "outputs": [
    {
     "name": "stdout",
     "output_type": "stream",
     "text": [
      "x1_train.shape (7000, 200)\n",
      "x1_train_labels.shape (7000,)\n",
      "x1_test.shape (3000, 200)\n",
      "x1_test_labels.shape (3000,)\n"
     ]
    }
   ],
   "source": [
    "# 手动生成二分类任务的数据集\n",
    "# 共生成两个数据集。 \n",
    "# 两个数据集的大小均为10000且训练集大小为7000，测试集大小为3000。 \n",
    "# 两个数据集的样本特征x的维度均为200，且分别服从均值互为相反数且方差相同的正态分布。 \n",
    "# 两个数据集的样本标签分别为0和1。\n",
    " \n",
    "def genMultiNormalData(train_num, test_num, label):\n",
    "    \n",
    "    # 样本特征x的维度为200\n",
    "    train_mean = np.random.randn(200)\n",
    "    test_mean = -1 * train_mean\n",
    "    \n",
    "    # 协方差矩阵\n",
    "    cov = np.eye(200)\n",
    "    train_size = (train_num, 1)\n",
    "    test_size = (test_num, 1)\n",
    "    \n",
    "    # 生成训练集\n",
    "    train_result = np.random.multivariate_normal(train_mean, cov, train_size)\n",
    "    train_result = np.squeeze(train_result)\n",
    "\n",
    "    # 生成测试集\n",
    "    test_result = np.random.multivariate_normal(test_mean, cov, test_size)\n",
    "    test_result = np.squeeze(test_result)\n",
    "    \n",
    "    train_labels = None\n",
    "    test_labels = None\n",
    "    \n",
    "    # 生成标签\n",
    "    if label == 0:\n",
    "        train_labels = np.zeros(train_num)\n",
    "        test_labels = np.zeros(test_num)\n",
    "    else:\n",
    "        train_labels = np.ones(train_num)\n",
    "        test_labels = np.ones(test_num)\n",
    "    return train_result, train_labels, test_result, test_labels\n",
    "\n",
    "# 生成数据集1\n",
    "x1_train, x1_train_labels, x1_test, x1_test_labels = genMultiNormalData(7000, 3000, 0)\n",
    "\n",
    "# 生成数据集2\n",
    "x2_train, x2_train_labels, x2_test, x2_test_labels = genMultiNormalData(7000, 3000, 1)\n",
    "\n",
    "print('x1_train.shape', x1_train.shape)\n",
    "print('x1_train_labels.shape', x1_train_labels.shape)\n",
    "print('x1_test.shape', x1_test.shape)\n",
    "print('x1_test_labels.shape', x1_test_labels.shape)\n"
   ]
  },
  {
   "cell_type": "code",
   "execution_count": 6,
   "metadata": {},
   "outputs": [
    {
     "name": "stdout",
     "output_type": "stream",
     "text": [
      "torch.Size([32, 1, 28, 28]) torch.Size([32])\n"
     ]
    }
   ],
   "source": [
    "# MNIST手写体数据集\n",
    "# 该数据集包含60,000个用于训练的图像样本和10,000个用于测试的图像样本。\n",
    "# 图像是固定大小(28x28像素)，其值为0到1。为每个图像都被平展并转换为784(28 * 28)个特征的一维\n",
    "# numpy数组\n",
    "\n",
    "train_dataset = torchvision.datasets.MNIST(root='./Datasets/MNIST', train=True, transform=transforms.ToTensor(), download=True)\n",
    "test_dataset = torchvision.datasets.MNIST(root='./Datasets/MNIST', train=False, transform=transforms.ToTensor())\n",
    "\n",
    "train_loader = torch.utils.data.DataLoader(train_dataset, batch_size=32, shuffle=True)\n",
    "test_loader = torch.utils.data.DataLoader(test_dataset, batch_size=32, shuffle=False)\n",
    "\n",
    "for X, y in train_loader:\n",
    "    print(X.shape, y.shape)\n",
    "    break"
   ]
  },
  {
   "cell_type": "code",
   "execution_count": null,
   "metadata": {},
   "outputs": [],
   "source": []
  },
  {
   "cell_type": "code",
   "execution_count": null,
   "metadata": {},
   "outputs": [],
   "source": []
  },
  {
   "cell_type": "code",
   "execution_count": null,
   "metadata": {},
   "outputs": [],
   "source": []
  },
  {
   "cell_type": "code",
   "execution_count": null,
   "metadata": {},
   "outputs": [],
   "source": []
  },
  {
   "cell_type": "code",
   "execution_count": null,
   "metadata": {},
   "outputs": [],
   "source": []
  }
 ],
 "metadata": {
  "kernelspec": {
   "display_name": "Python [conda env:root] *",
   "language": "python",
   "name": "conda-root-py"
  },
  "language_info": {
   "codemirror_mode": {
    "name": "ipython",
    "version": 3
   },
   "file_extension": ".py",
   "mimetype": "text/x-python",
   "name": "python",
   "nbconvert_exporter": "python",
   "pygments_lexer": "ipython3",
   "version": "3.8.5"
  }
 },
 "nbformat": 4,
 "nbformat_minor": 4
}
