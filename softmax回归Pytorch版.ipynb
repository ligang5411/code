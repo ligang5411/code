{
 "cells": [
  {
   "cell_type": "code",
   "execution_count": 1,
   "metadata": {},
   "outputs": [
    {
     "data": {
      "text/plain": [
       "[<matplotlib.lines.Line2D at 0x212412708b0>]"
      ]
     },
     "execution_count": 1,
     "metadata": {},
     "output_type": "execute_result"
    },
    {
     "data": {
      "image/png": "[encoded data removed]",
      "text/plain": [
       "<Figure size 432x288 with 1 Axes>"
      ]
     },
     "metadata": {
      "needs_background": "light"
     },
     "output_type": "display_data"
    }
   ],
   "source": [
    "from sklearn import datasets  # Import the sklearn datasets module\n",
    "from sklearn.model_selection import train_test_split\n",
    "import torch\n",
    "import torch.nn as nn\n",
    "from d2l import torch as d2l\n",
    "import numpy as np\n",
    "import matplotlib.pyplot as plt\n",
    "\n",
    "# 准备数据\n",
    "iris = datasets.load_iris()\n",
    "x = iris.data \n",
    "y = iris.target\n",
    "\n",
    "x, x_test, y, y_test =  train_test_split(x,y)\n",
    "# print('x', x)\n",
    "m = x.shape[0]\n",
    "n = x.shape[1]\n",
    "N = 3\n",
    "# Phi = np.hstack((x,np.ones((x.shape[0],1))))\n",
    "\n",
    "\n",
    "# 定义模型\n",
    "softmax = nn.Softmax(dim=1)\n",
    "net = nn.Linear(4,3)\n",
    "net.weight.data.normal_(0,0.01)\n",
    "net.bias.data.zero_()\n",
    "# net.parameters()\n",
    "\n",
    "# 定义损失函数\n",
    "loss = nn.CrossEntropyLoss()\n",
    "\n",
    "# 定义优化函数\n",
    "optimFunc = torch.optim.SGD(net.parameters(), lr = 0.1)\n",
    "\n",
    "# 训练模型\n",
    "num_epochs = 1000\n",
    "\n",
    "x = torch.from_numpy(x).float()\n",
    "y = torch.from_numpy(y).long()\n",
    "x_test = torch.from_numpy(x_test).float()\n",
    "y_test = torch.from_numpy(y_test).long()\n",
    "\n",
    "loss_record = []\n",
    "train_acc_record = []\n",
    "pred_suc = 0\n",
    "\n",
    "def accurate(X, y):\n",
    "    y_hat = net(X)\n",
    "    y_hat_soft = softmax(y_hat)\n",
    "    y_hat_index = torch.argmax(y_hat_soft, dim=1)\n",
    "    num = np.sum(y_hat_index.numpy() == y.numpy())\n",
    "    acc = num / y.shape[0]\n",
    "    return acc\n",
    "\n",
    "for i in range(num_epochs):\n",
    "    # 将数据输入模型\n",
    "    y_hat = net(x)\n",
    "    \n",
    "    # 计算损失并打印\n",
    "    mLoss = loss(y_hat, y)\n",
    "    loss_record.append(mLoss)\n",
    "    \n",
    "    # 梯度清零\n",
    "    optimFunc.zero_grad()\n",
    "    \n",
    "    # 梯度更新\n",
    "    mLoss.backward()\n",
    "    optimFunc.step()\n",
    "    \n",
    "    acc = accurate(x, y)\n",
    "    train_acc_record.append(acc)\n",
    "#     print('y_hat', y_hat_soft)\n",
    "#     print('y_hat_index', y_hat_index)\n",
    "#     print('y', y)\n",
    "    \n",
    "plt.plot(loss_record)"
   ]
  },
  {
   "cell_type": "code",
   "execution_count": 2,
   "metadata": {},
   "outputs": [
    {
     "data": {
      "text/plain": [
       "[<matplotlib.lines.Line2D at 0x21241343d60>]"
      ]
     },
     "execution_count": 2,
     "metadata": {},
     "output_type": "execute_result"
    },
    {
     "data": {
      "image/png": "[encoded data removed]",
      "text/plain": [
       "<Figure size 432x288 with 1 Axes>"
      ]
     },
     "metadata": {
      "needs_background": "light"
     },
     "output_type": "display_data"
    }
   ],
   "source": [
    "plt.plot(train_acc_record)"
   ]
  },
  {
   "cell_type": "code",
   "execution_count": 3,
   "metadata": {},
   "outputs": [
    {
     "name": "stdout",
     "output_type": "stream",
     "text": [
      "test_accurate 1.0\n"
     ]
    }
   ],
   "source": [
    "test_accurate = accurate(x_test, y_test)\n",
    "print('test_accurate', test_accurate)"
   ]
  },
  {
   "cell_type": "code",
   "execution_count": null,
   "metadata": {},
   "outputs": [],
   "source": []
  }
 ],
 "metadata": {
  "kernelspec": {
   "display_name": "Python [conda env:root] *",
   "language": "python",
   "name": "conda-root-py"
  },
  "language_info": {
   "codemirror_mode": {
    "name": "ipython",
    "version": 3
   },
   "file_extension": ".py",
   "mimetype": "text/x-python",
   "name": "python",
   "nbconvert_exporter": "python",
   "pygments_lexer": "ipython3",
   "version": "3.8.5"
  }
 },
 "nbformat": 4,
 "nbformat_minor": 4
}
