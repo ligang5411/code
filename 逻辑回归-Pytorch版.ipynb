{
 "cells": [
  {
   "cell_type": "code",
   "execution_count": 3,
   "metadata": {},
   "outputs": [
    {
     "name": "stdout",
     "output_type": "stream",
     "text": [
      "y.size <class 'numpy.ndarray'>\n",
      "out tensor([0.9826, 0.9777, 0.9769, 0.9750, 0.9823, 0.9867, 0.9771, 0.9812, 0.9707,\n",
      "        0.9784, 0.9859, 0.9792, 0.9766, 0.9702, 0.9894, 0.9902, 0.9867, 0.9826,\n",
      "        0.9882, 0.9841, 0.9846, 0.9836, 0.9784, 0.9815, 0.9792, 0.9788, 0.9812,\n",
      "        0.9835, 0.9830, 0.9769, 0.9773, 0.9846, 0.9862, 0.9884, 0.9784, 0.9800,\n",
      "        0.9857, 0.9814, 0.9716, 0.9821, 0.9817, 0.9667, 0.9732, 0.9817, 0.9841,\n",
      "        0.9766, 0.9841, 0.9757, 0.9852, 0.9806, 0.9926, 0.9900, 0.9920, 0.9795,\n",
      "        0.9893, 0.9840, 0.9898, 0.9734, 0.9901, 0.9790, 0.9714, 0.9864, 0.9835,\n",
      "        0.9873, 0.9837, 0.9911, 0.9842, 0.9843, 0.9851, 0.9817, 0.9872, 0.9869,\n",
      "        0.9870, 0.9869, 0.9890, 0.9904, 0.9907, 0.9908, 0.9866, 0.9830, 0.9801,\n",
      "        0.9801, 0.9843, 0.9858, 0.9826, 0.9885, 0.9911, 0.9862, 0.9842, 0.9807,\n",
      "        0.9813, 0.9877, 0.9839, 0.9739, 0.9827, 0.9850, 0.9845, 0.9879, 0.9766,\n",
      "        0.9840, 0.9898, 0.9843, 0.9925, 0.9885, 0.9899, 0.9941, 0.9741, 0.9930,\n",
      "        0.9893, 0.9940, 0.9905, 0.9884, 0.9913, 0.9825, 0.9848, 0.9900, 0.9899,\n",
      "        0.9956, 0.9937, 0.9835, 0.9922, 0.9832, 0.9941, 0.9878, 0.9916, 0.9933,\n",
      "        0.9875, 0.9877, 0.9887, 0.9929, 0.9931, 0.9960, 0.9887, 0.9881, 0.9861,\n",
      "        0.9944, 0.9901, 0.9897, 0.9870, 0.9920, 0.9911, 0.9920, 0.9843, 0.9918,\n",
      "        0.9916, 0.9908, 0.9870, 0.9899, 0.9896, 0.9864],\n",
      "       grad_fn=<SqueezeBackward0>)\n",
      "ge shape torch.Size([150])\n",
      "ge tensor([True, True, True, True, True, True, True, True, True, True, True, True,\n",
      "        True, True, True, True, True, True, True, True, True, True, True, True,\n",
      "        True, True, True, True, True, True, True, True, True, True, True, True,\n",
      "        True, True, True, True, True, True, True, True, True, True, True, True,\n",
      "        True, True, True, True, True, True, True, True, True, True, True, True,\n",
      "        True, True, True, True, True, True, True, True, True, True, True, True,\n",
      "        True, True, True, True, True, True, True, True, True, True, True, True,\n",
      "        True, True, True, True, True, True, True, True, True, True, True, True,\n",
      "        True, True, True, True, True, True, True, True, True, True, True, True,\n",
      "        True, True, True, True, True, True, True, True, True, True, True, True,\n",
      "        True, True, True, True, True, True, True, True, True, True, True, True,\n",
      "        True, True, True, True, True, True, True, True, True, True, True, True,\n",
      "        True, True, True, True, True, True])\n"
     ]
    },
    {
     "data": {
      "image/png": "[encoded data removed]",
      "text/plain": [
       "<Figure size 720x432 with 1 Axes>"
      ]
     },
     "metadata": {
      "needs_background": "light"
     },
     "output_type": "display_data"
    }
   ],
   "source": [
    "from sklearn import datasets\n",
    "%matplotlib inline\n",
    "import numpy as np\n",
    "import matplotlib.pyplot as plt\n",
    "import torch.nn as nn\n",
    "import torch\n",
    "\n",
    "\n",
    "# 引入数据\n",
    "iris = datasets.load_iris()\n",
    "X = iris.data[:, :2]\n",
    "y = (iris.target != 0) * 1\n",
    "print('y.size', type(y))\n",
    "plt.figure(figsize=(10, 6))\n",
    "plt.scatter(X[y == 0][:, 0], X[y == 0][:, 1], color='b', label='0')\n",
    "plt.scatter(X[y == 1][:, 0], X[y == 1][:, 1], color='r', label='1')\n",
    "plt.legend();\n",
    "\n",
    "\n",
    "# 定义模型\n",
    "class LogisticRegression(nn.Module):\n",
    "    def __init__(self):\n",
    "        super(LogisticRegression, self).__init__()\n",
    "        self.lr = nn.Linear(2, 1)\n",
    "        self.sm = nn.Sigmoid()\n",
    "        \n",
    "    def forward(self, x):\n",
    "        x = self.lr(x)\n",
    "        x = self.sm(x)\n",
    "        x = x.squeeze()\n",
    "        return x\n",
    "\n",
    "logistic_model = LogisticRegression()\n",
    "\n",
    "# 定义损失函数\n",
    "mLoss = nn.BCELoss()\n",
    "# 定义优化函数\n",
    "optimizer = torch.optim.SGD(logistic_model.parameters(), lr = 1e-3, momentum = 0.9)\n",
    "# 训练模型\n",
    "num_epoch = 1\n",
    "for epoch in range(num_epoch):\n",
    "    x_data = torch.from_numpy(X).float()\n",
    "    y_data = torch.from_numpy(y).float()\n",
    "#     print('x_data.type', type(x_data))\n",
    "#     print('x_data', x_data)\n",
    "    \n",
    "    out = logistic_model(x_data)\n",
    "#     print('out.shape', out.shape)\n",
    "#     print('x_data.shape', x_data.shape)\n",
    "    \n",
    "#     print('out.type', type(out))\n",
    "#     print('y_data.type', type(y_data))\n",
    "    \n",
    "    loss = mLoss(out, y_data)\n",
    "    print_loss = loss.data.item()\n",
    "    ge = out.ge(0.5)\n",
    "    print('out', out)\n",
    "    print('ge shape', ge.shape)\n",
    "    print('ge', ge)\n",
    "    mask = ge.float()\n",
    "    correct = (mask == y_data).sum()\n",
    "    acc = correct.item()/x_data.size(0)\n",
    "    optimizer.zero_grad()\n",
    "    loss.backward()\n",
    "    optimizer.step()\n",
    "    \n",
    "#     if (epoch + 1) % 20 == 0:\n",
    "#         print('*' * 10)\n",
    "#         print('epoch {}'.format(epoch+1))\n",
    "#         print('loss is {:.4f}'.format(print_loss))\n",
    "#         print('acc is {:.4f}'.format(acc))\n",
    "\n",
    "\n",
    "\n",
    "# 可视化结果\n",
    "def looklook():\n",
    "    w0, w1 = logistic_model.lr.weight[0]\n",
    "    w0 = float(w0.item())\n",
    "    w1 = float(w1.item())\n",
    "    b = float(logistic_model.lr.bias.item())\n",
    "    plot_x = np.arange(4.5, 8.0, 0.1)\n",
    "    plot_y = (-w0 * plot_x - b) / w1\n",
    "    plt.figure(figsize=(10, 6))\n",
    "    plt.scatter(X[y == 0][:, 0], X[y == 0][:, 1], color='b', label='0')\n",
    "    plt.scatter(X[y == 1][:, 0], X[y == 1][:, 1], color='r', label='1')\n",
    "\n",
    "    # plt.scatter(X.data.numpy()[:, 0], X.data.numpy()[:,1], c = y.data.numpy(), s=100, lw=0, cmap='RdY1Gn')\n",
    "    plt.plot(plot_x, plot_y)\n",
    "    plt.show()\n",
    "\n",
    "\n",
    "\n"
   ]
  },
  {
   "cell_type": "code",
   "execution_count": 13,
   "metadata": {},
   "outputs": [
    {
     "data": {
      "image/png": "[encoded data removed]",
      "text/plain": [
       "<Figure size 720x432 with 1 Axes>"
      ]
     },
     "metadata": {
      "needs_background": "light"
     },
     "output_type": "display_data"
    }
   ],
   "source": [
    "looklook()"
   ]
  },
  {
   "cell_type": "code",
   "execution_count": null,
   "metadata": {},
   "outputs": [],
   "source": []
  }
 ],
 "metadata": {
  "kernelspec": {
   "display_name": "Python [conda env:root] *",
   "language": "python",
   "name": "conda-root-py"
  },
  "language_info": {
   "codemirror_mode": {
    "name": "ipython",
    "version": 3
   },
   "file_extension": ".py",
   "mimetype": "text/x-python",
   "name": "python",
   "nbconvert_exporter": "python",
   "pygments_lexer": "ipython3",
   "version": "3.8.5"
  }
 },
 "nbformat": 4,
 "nbformat_minor": 4
}
